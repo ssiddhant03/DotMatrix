{
  "nbformat": 4,
  "nbformat_minor": 0,
  "metadata": {
    "colab": {
      "provenance": [],
      "authorship_tag": "ABX9TyMHmUQWNmsnO2slZwtZ7uXG",
      "include_colab_link": true
    },
    "kernelspec": {
      "name": "python3",
      "display_name": "Python 3"
    },
    "language_info": {
      "name": "python"
    }
  },
  "cells": [
    {
      "cell_type": "markdown",
      "metadata": {
        "id": "view-in-github",
        "colab_type": "text"
      },
      "source": [
        "<a href=\"https://colab.research.google.com/github/ssiddhant03/DotMatrix/blob/main/DotMatrix.ipynb\" target=\"_parent\"><img src=\"https://colab.research.google.com/assets/colab-badge.svg\" alt=\"Open In Colab\"/></a>"
      ]
    },
    {
      "cell_type": "markdown",
      "source": [
        "Importing Required Libraries"
      ],
      "metadata": {
        "id": "m6GKqOP5nrJi"
      }
    },
    {
      "cell_type": "code",
      "execution_count": 1,
      "metadata": {
        "id": "KCMvo3TSnhyq"
      },
      "outputs": [],
      "source": [
        "import numpy as np\n",
        "import math\n",
        "import pandas as pd\n",
        "import cv2 as cv\n",
        "from google.colab.patches import cv2_imshow # for image display\n",
        "from skimage import io\n",
        "from PIL import Image\n",
        "import matplotlib.pylab as plt"
      ]
    },
    {
      "cell_type": "markdown",
      "source": [
        "Creating a black image of given size"
      ],
      "metadata": {
        "id": "jfOIn9W8twuv"
      }
    },
    {
      "cell_type": "code",
      "source": [
        "img = np.zeros((300, 500, 3), dtype = np.uint8)\n",
        "# cv2_imshow(img)\n",
        "gray=cv.cvtColor(img, cv.COLOR_BGR2GRAY)\n",
        "# gray[20:40, 40:80]=255\n",
        "cv2_imshow(gray)"
      ],
      "metadata": {
        "colab": {
          "base_uri": "https://localhost:8080/",
          "height": 317
        },
        "id": "r91ckuNnwUh_",
        "outputId": "20f2e3c9-9646-417b-e377-b3a80107054e"
      },
      "execution_count": 2,
      "outputs": [
        {
          "output_type": "display_data",
          "data": {
            "text/plain": [
              "<PIL.Image.Image image mode=L size=500x300>"
            ],
            "image/png": "[encoded data removed]"
          },
          "metadata": {}
        }
      ]
    },
    {
      "cell_type": "markdown",
      "source": [
        "Getting the Last Two Digits"
      ],
      "metadata": {
        "id": "y4PDjiM26N95"
      }
    },
    {
      "cell_type": "code",
      "source": [
        "num = int(input(\"Enter the number \"))\n",
        "b=num%10\n",
        "num//=10\n",
        "a=num%10"
      ],
      "metadata": {
        "colab": {
          "base_uri": "https://localhost:8080/"
        },
        "id": "-dwDAELp6URy",
        "outputId": "c9ff8699-8e44-4f9e-a4e1-aaffde5a7322"
      },
      "execution_count": 3,
      "outputs": [
        {
          "name": "stdout",
          "output_type": "stream",
          "text": [
            "Enter the number 211213\n"
          ]
        }
      ]
    },
    {
      "cell_type": "markdown",
      "source": [
        "Making the Dots"
      ],
      "metadata": {
        "id": "3xGVt9Gw0EfD"
      }
    },
    {
      "cell_type": "code",
      "source": [
        "#1st Column\n",
        "if a!=1:\n",
        "  cv.circle(gray, (65,30),25, 255, thickness=-1)\n",
        "if a!=1 and a!=2 and a!=3 and a!=7:\n",
        "  cv.circle(gray, (65,90),25, 255, thickness=-1)\n",
        "if a!=1 and a!=7:\n",
        "  cv.circle(gray, (65,150),25, 255, thickness=-1)\n",
        "if a!=1 and a!=3 and a!=4 and a!=5 and a!=7 and a!=9:\n",
        "  cv.circle(gray, (65,210),25, 255, thickness=-1)\n",
        "if a!=1 and a!=4 and a!=7:\n",
        "  cv.circle(gray, (65,270),25, 255, thickness=-1)\n",
        "\n",
        "#2nd Column\n",
        "if a!=1  and a!=4:\n",
        "  cv.circle(gray, (125,30),25, 255, thickness=-1)\n",
        "# cv.circle(gray, (125,90),22, 255, thickness=-1)\n",
        "if a!=0 and a!=1  and a!=7:\n",
        "  cv.circle(gray, (125,150),25, 255, thickness=-1)\n",
        "# cv.circle(gray, (125,210),22, 255, thickness=-1)\n",
        "if a!=1 and a!=4 and a!=7:\n",
        "  cv.circle(gray, (125,270),25, 255, thickness=-1)\n",
        "\n",
        "#3rd Column\n",
        "if 1:\n",
        "  cv.circle(gray, (185,30),25, 255, thickness=-1)\n",
        "if a!=5 and a!=6:\n",
        "  cv.circle(gray, (185,90),25, 255, thickness=-1)\n",
        "if 1:\n",
        "  cv.circle(gray, (185,150),25, 255, thickness=-1)\n",
        "if a!=2:\n",
        "  cv.circle(gray, (185,210),25, 255, thickness=-1)\n",
        "if 1:\n",
        "  cv.circle(gray, (185,270),25, 255, thickness=-1)\n",
        "\n",
        "#4th Column\n",
        "if b!=1:\n",
        "  cv.circle(gray, (315,30),25, 255, thickness=-1)\n",
        "if b!=1 and b!=2 and b!=3 and b!=7:\n",
        "  cv.circle(gray, (315,90),25, 255, thickness=-1)\n",
        "if b!=1 and b!=7:\n",
        "  cv.circle(gray, (315,150),25, 255, thickness=-1)\n",
        "if b!=1 and b!=3 and b!=4 and b!=5 and b!=7 and b!=9:\n",
        "  cv.circle(gray, (315,210),25, 255, thickness=-1)\n",
        "if b!=1 and b!=4 and b!=7:\n",
        "  cv.circle(gray, (315,270),25, 255, thickness=-1)\n",
        "\n",
        "#5th Column\n",
        "if b!=1  and b!=4:\n",
        "  cv.circle(gray, (375,30),25, 255, thickness=-1)\n",
        "# cv.circle(gray, (375,90),22, 255, thickness=-1)\n",
        "if b!=0 and b!=1  and b!=7:\n",
        "  cv.circle(gray, (375,150),25, 255, thickness=-1)\n",
        "# cv.circle(gray, (375,210),22, 255, thickness=-1)\n",
        "if b!=1 and b!=4 and b!=7:\n",
        "  cv.circle(gray, (375,270),25, 255, thickness=-1)\n",
        "\n",
        "#6th Column\n",
        "cv.circle(gray, (435,30),25, 255, thickness=-1)\n",
        "if b!=5 and b!=6:\n",
        "  cv.circle(gray, (435,90),25, 255, thickness=-1)\n",
        "cv.circle(gray, (435,150),25, 255, thickness=-1)\n",
        "if b!=2:\n",
        "  cv.circle(gray, (435,210),25, 255, thickness=-1)\n",
        "cv.circle(gray, (435,270),25, 255, thickness=-1)\n",
        "cv2_imshow(gray)\n"
      ],
      "metadata": {
        "colab": {
          "base_uri": "https://localhost:8080/",
          "height": 317
        },
        "id": "grSDv05w0QdC",
        "outputId": "456fb630-391f-4e9a-c03e-23500aba0f09"
      },
      "execution_count": 4,
      "outputs": [
        {
          "output_type": "display_data",
          "data": {
            "text/plain": [
              "<PIL.Image.Image image mode=L size=500x300>"
            ],
            "image/png": "[encoded data removed]"
          },
          "metadata": {}
        }
      ]
    },
    {
      "cell_type": "markdown",
      "source": [
        "Note: You need to reload the black image (named gray) each time you write a new number otherwise it will overwrite."
      ],
      "metadata": {
        "id": "TeQ9I59wBPbR"
      }
    }
  ]
}